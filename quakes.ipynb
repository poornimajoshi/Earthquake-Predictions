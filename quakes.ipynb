{
 "cells": [
  {
   "cell_type": "markdown",
   "metadata": {},
   "source": [
    "<b>\n",
    "\n",
    "<p>\n",
    "<center>\n",
    "<font size=\"5\">\n",
    "Final Project (DATS 6202 - O10), Spring 2019\n",
    "</font>\n",
    "</center>\n",
    "</p>\n",
    "\n",
    "<p>\n",
    "<center>\n",
    "<font size=\"4\">\n",
    "Earthquake Prediction\n",
    "</font>\n",
    "</center>\n",
    "</p>\n",
    "\n",
    "<p>\n",
    "<center>\n",
    "<font size=\"3\">\n",
    "Data Science, Columbian College of Arts & Sciences, George Washington University\n",
    "</font>\n",
    "</center>\n",
    "</p>\n",
    "\n",
    "<p>\n",
    "<center>\n",
    "<font size=\"3\">\n",
    "Author: Elie Tetteh-Wayoe, Mihir Gadgil and Poornima Joshi\n",
    "</font>\n",
    "</center>\n",
    "</p>\n",
    "\n",
    "</b>"
   ]
  },
  {
   "cell_type": "markdown",
   "metadata": {},
   "source": [
    "## Introduction"
   ]
  },
  {
   "cell_type": "markdown",
   "metadata": {},
   "source": [
    "Problem and Motivation:\n",
    "\n",
    "Forecasting earthquakes is one of the most important challenges in Earth science because\n",
    "of their devastating consequences. Current scientific studies related to earthquake\n",
    "forecasting focus on three key points: when the event will occur, where it will occur, and how\n",
    "large it will be. Los Alamos National Laboratory is hosting a Kaggle competition to further\n",
    "this research.\n",
    "\n",
    "In this competition, the aim is to address when the earthquake will take place. Specifically,\n",
    "predict the time remaining before laboratory earthquakes occur from real-time seismic data.\n",
    "The challenge is that the data has only one feature and target to work with. The\n",
    "‘acoustic_data’ is the feature and ‘time_to_failure’ is the target. Creating multiple sensible\n",
    "features from the available data will be a core part of the project.\n",
    "\n",
    "If this challenge is solved and the physics are ultimately shown to scale from the laboratory\n",
    "to the field, researchers will have the potential to improve earthquake hazard assessments\n",
    "that could save lives and billions of dollars in infrastructure."
   ]
  },
  {
   "cell_type": "markdown",
   "metadata": {},
   "source": [
    "## Experiment"
   ]
  },
  {
   "cell_type": "code",
   "execution_count": 16,
   "metadata": {},
   "outputs": [],
   "source": [
    "import numpy as np\n",
    "import pandas as pd\n",
    "import tensorflow as tf\n",
    "from tensorflow import keras\n",
    "from tensorflow.keras import layers\n",
    "from sklearn.preprocessing import StandardScaler\n",
    "from os import listdir\n",
    "from os.path import isfile\n",
    "import os\n",
    "import matplotlib.pyplot as plt\n",
    "%matplotlib inline\n",
    "from sklearn.model_selection import KFold\n",
    "from sklearn.pipeline import Pipeline\n",
    "from sklearn.preprocessing import StandardScaler\n",
    "from sklearn.linear_model import ElasticNet\n",
    "from sklearn.model_selection import GridSearchCV\n",
    "from sklearn import datasets, linear_model\n",
    "from sklearn.metrics import mean_squared_error, r2_score\n",
    "from sklearn.ensemble import RandomForestRegressor\n",
    "from sklearn.neural_network import MLPRegressor\n",
    "\n",
    "from keras import models\n",
    "from keras import layers\n",
    "from keras.wrappers.scikit_learn import KerasRegressor\n",
    "\n",
    "# Set Pandas precision\n",
    "pd.set_option('display.precision', 9)"
   ]
  },
  {
   "cell_type": "code",
   "execution_count": 2,
   "metadata": {},
   "outputs": [],
   "source": [
    "import warnings\n",
    "warnings.filterwarnings('ignore')"
   ]
  },
  {
   "cell_type": "markdown",
   "metadata": {},
   "source": [
    "### EDA"
   ]
  },
  {
   "cell_type": "code",
   "execution_count": 5,
   "metadata": {},
   "outputs": [
    {
     "name": "stdout",
     "output_type": "stream",
     "text": [
      "['.DS_Store', 'test', 'LANL-Earthquake-Prediction.zip', 'test.zip', '.gitignore', 'train.csv', 'sample_submission.csv']\n"
     ]
    }
   ],
   "source": [
    "# What kind of data do we have\n",
    "print(os.listdir(\"../Earthquake-Predictions/data/\"))"
   ]
  },
  {
   "cell_type": "code",
   "execution_count": 6,
   "metadata": {},
   "outputs": [
    {
     "name": "stdout",
     "output_type": "stream",
     "text": [
      "The data looks like this :\n"
     ]
    },
    {
     "data": {
      "text/html": [
       "<div>\n",
       "<style scoped>\n",
       "    .dataframe tbody tr th:only-of-type {\n",
       "        vertical-align: middle;\n",
       "    }\n",
       "\n",
       "    .dataframe tbody tr th {\n",
       "        vertical-align: top;\n",
       "    }\n",
       "\n",
       "    .dataframe thead th {\n",
       "        text-align: right;\n",
       "    }\n",
       "</style>\n",
       "<table border=\"1\" class=\"dataframe\">\n",
       "  <thead>\n",
       "    <tr style=\"text-align: right;\">\n",
       "      <th></th>\n",
       "      <th>acoustic_data</th>\n",
       "      <th>time_to_failure</th>\n",
       "    </tr>\n",
       "  </thead>\n",
       "  <tbody>\n",
       "    <tr>\n",
       "      <th>0</th>\n",
       "      <td>12</td>\n",
       "      <td>1.469099983</td>\n",
       "    </tr>\n",
       "    <tr>\n",
       "      <th>1</th>\n",
       "      <td>6</td>\n",
       "      <td>1.469099982</td>\n",
       "    </tr>\n",
       "    <tr>\n",
       "      <th>2</th>\n",
       "      <td>8</td>\n",
       "      <td>1.469099981</td>\n",
       "    </tr>\n",
       "    <tr>\n",
       "      <th>3</th>\n",
       "      <td>5</td>\n",
       "      <td>1.469099980</td>\n",
       "    </tr>\n",
       "    <tr>\n",
       "      <th>4</th>\n",
       "      <td>8</td>\n",
       "      <td>1.469099979</td>\n",
       "    </tr>\n",
       "  </tbody>\n",
       "</table>\n",
       "</div>"
      ],
      "text/plain": [
       "   acoustic_data  time_to_failure\n",
       "0             12      1.469099983\n",
       "1              6      1.469099982\n",
       "2              8      1.469099981\n",
       "3              5      1.469099980\n",
       "4              8      1.469099979"
      ]
     },
     "execution_count": 6,
     "metadata": {},
     "output_type": "execute_result"
    }
   ],
   "source": [
    "# How does the data look like \n",
    "\n",
    "z = pd.read_csv(\"data/train.csv\", nrows=5)\n",
    "print(\"The data looks like this :\")\n",
    "z.head()"
   ]
  },
  {
   "cell_type": "code",
   "execution_count": 7,
   "metadata": {},
   "outputs": [
    {
     "name": "stdout",
     "output_type": "stream",
     "text": [
      "Train has: rows: 629145480 \n"
     ]
    }
   ],
   "source": [
    "# Look at how big our data is\n",
    "df_length = 0\n",
    "for training in pd.read_csv('data/train.csv', chunksize=150000):\n",
    "    df_length = df_length + len(training)\n",
    "    \n",
    "print(\"Train has: rows: {} \".format(df_length))\n",
    "\n",
    "# It has 629,145,480 number of rows"
   ]
  },
  {
   "cell_type": "markdown",
   "metadata": {},
   "source": [
    "We have one long array of seismic data. We will break it down into chunks of size 150k (chunk) and each chunk will be one signal in our data (this is because each segment in the test data has length 150k). The time_to_failure at the last time step of each segment becomes the target associated with that segment."
   ]
  },
  {
   "cell_type": "code",
   "execution_count": 4,
   "metadata": {},
   "outputs": [
    {
     "name": "stdout",
     "output_type": "stream",
     "text": [
      "CPU times: user 12min 52s, sys: 9min 9s, total: 22min 2s\n",
      "Wall time: 22min 10s\n"
     ]
    }
   ],
   "source": [
    "%%time\n",
    "df_train = pd.DataFrame(columns=['acoustic_data', 'time_to_failure'], dtype=np.float)\n",
    "\n",
    "for train in pd.read_csv('data/train.csv', chunksize=150000):\n",
    "    df_train = df_train.append(train[::50])\n",
    "    \n",
    "#     np.append(train_acoustic_data_small, train['acoustic_data'].values[::50])\n",
    "#     np.append(train_time_to_failure_small, train['time_to_failure'].values[::50])\n"
   ]
  },
  {
   "cell_type": "code",
   "execution_count": 5,
   "metadata": {
    "scrolled": false
   },
   "outputs": [
    {
     "data": {
      "image/png": "[encoded data removed]",
      "text/plain": [
       "<Figure size 1152x576 with 2 Axes>"
      ]
     },
     "metadata": {},
     "output_type": "display_data"
    }
   ],
   "source": [
    "fig, ax1 = plt.subplots(figsize=(16, 8))\n",
    "plt.title(\"Trends of acoustic_data and time_to_failure. 2% of data (sampled)\")\n",
    "plt.plot(df_train['acoustic_data'], color='b')\n",
    "ax1.set_ylabel('acoustic_data', color='b')\n",
    "plt.legend(['acoustic_data'])\n",
    "ax2 = ax1.twinx()\n",
    "plt.plot(df_train['time_to_failure'], color='g')\n",
    "ax2.set_ylabel('time_to_failure', color='g')\n",
    "plt.legend(['time_to_failure'], loc=(0.875, 0.9))\n",
    "plt.grid(False)"
   ]
  },
  {
   "cell_type": "markdown",
   "metadata": {},
   "source": [
    "Extracting features from each part of the segment\n",
    "\n",
    "The original long seismic signal has been broken down into several more features. Usually features such as mean, standard deviation, range, percentiles etc are calculated over each part of the chunk and each part of the chunk is represented by its own list of such features."
   ]
  },
  {
   "cell_type": "code",
   "execution_count": 3,
   "metadata": {},
   "outputs": [],
   "source": [
    "# Creating more features from the existing data\n",
    "n = 150_000\n",
    "freq = 500\n",
    "columns = [\n",
    "    'mean', 'std', 'min', 'max', 'sum', 'abs_mean', 'abs_std', 'abs_max', 'abs_sum', 'argmax', 'rate_mean', 'rate_std',\n",
    "    'rate_max', 'rate_min', 'rate_abs_max'\n",
    "]\n",
    "\n",
    "columns.extend(['fftr' + str(i) for i in range(0, freq)])\n",
    "columns.extend(['fftr' + str(i) for i in range(n//2 - freq, n//2 + freq)])\n",
    "columns.extend(['fftr' + str(i) for i in range(n-freq, n)])\n",
    "columns.extend(['ffti' + str(i) for i in range(0, freq)])\n",
    "columns.extend(['ffti' + str(i) for i in range(n//2 - freq, n//2 + freq)])\n",
    "columns.extend(['ffti' + str(i) for i in range(n-freq, n)])\n",
    "\n",
    "roll_windows = [100, 500, 1000, 2000, 4000, 10000]\n",
    "columns.extend(['rolling_mean_' + str(i) for i in roll_windows])\n",
    "columns.extend(['rolling_std_' + str(i) for i in roll_windows])\n",
    "\n",
    "df_train = pd.DataFrame(dtype=np.float, columns=columns)"
   ]
  },
  {
   "cell_type": "code",
   "execution_count": 4,
   "metadata": {},
   "outputs": [],
   "source": [
    "def generate_features(chunk):\n",
    "    mean = chunk['acoustic_data'].mean()\n",
    "    std = chunk['acoustic_data'].std()\n",
    "    min = chunk['acoustic_data'].min()\n",
    "    max = chunk['acoustic_data'].max()\n",
    "    sum = chunk['acoustic_data'].sum()\n",
    "    abs_sum = chunk['acoustic_data'].abs().sum()\n",
    "    abs_max = chunk['acoustic_data'].abs().max()\n",
    "    abs_mean = chunk['acoustic_data'].abs().mean()\n",
    "    abs_std = chunk['acoustic_data'].abs().std()\n",
    "    argmax = chunk['acoustic_data'].abs().values.argmax()\n",
    "    rate = np.diff(chunk['acoustic_data'].values)\n",
    "    rate_mean = rate.mean()\n",
    "    rate_std = rate.std()\n",
    "    rate_max = rate.max()\n",
    "    rate_min = rate.min()\n",
    "    rate_abs_max = np.abs(rate).max()\n",
    "    fft = np.fft.fft(chunk['acoustic_data'], n=n)\n",
    "    result = [\n",
    "        mean, std, min, max, sum, abs_mean, abs_std, abs_max, abs_sum, argmax, rate_mean, rate_std, rate_max, rate_min,\n",
    "        rate_abs_max\n",
    "    ]\n",
    "    result.extend(list(fft.real[0:freq]))\n",
    "    result.extend(list(fft.real[n//2-freq:n//2+freq]))\n",
    "    result.extend(list(fft.real[n-freq:n]))\n",
    "    result.extend(list(fft.imag[0:freq]))\n",
    "    result.extend(list(fft.imag[n//2-freq:n//2+freq]))\n",
    "    result.extend(list(fft.imag[n-freq:n]))\n",
    "    for window in roll_windows:\n",
    "        result.append(\n",
    "            chunk['acoustic_data'].rolling(window=window).mean().mean(skipna=True)\n",
    "        )\n",
    "        result.append(\n",
    "            chunk['acoustic_data'].rolling(window=window).std().mean(skipna=True)\n",
    "        )\n",
    "    return result"
   ]
  },
  {
   "cell_type": "code",
   "execution_count": 5,
   "metadata": {},
   "outputs": [],
   "source": [
    "i = 0\n",
    "for chunk in pd.read_csv('train.csv', chunksize=n):\n",
    "    df_train.loc[i, columns] = generate_features(chunk)\n",
    "    df_train.loc[i, 'time_to_failure'] = chunk['time_to_failure'].values[-1]\n",
    "    i += 1"
   ]
  },
  {
   "cell_type": "code",
   "execution_count": 8,
   "metadata": {},
   "outputs": [
    {
     "data": {
      "text/html": [
       "<div>\n",
       "<style scoped>\n",
       "    .dataframe tbody tr th:only-of-type {\n",
       "        vertical-align: middle;\n",
       "    }\n",
       "\n",
       "    .dataframe tbody tr th {\n",
       "        vertical-align: top;\n",
       "    }\n",
       "\n",
       "    .dataframe thead th {\n",
       "        text-align: right;\n",
       "    }\n",
       "</style>\n",
       "<table border=\"1\" class=\"dataframe\">\n",
       "  <thead>\n",
       "    <tr style=\"text-align: right;\">\n",
       "      <th></th>\n",
       "      <th>mean</th>\n",
       "      <th>std</th>\n",
       "      <th>min</th>\n",
       "      <th>max</th>\n",
       "      <th>sum</th>\n",
       "      <th>abs_mean</th>\n",
       "      <th>abs_std</th>\n",
       "      <th>abs_max</th>\n",
       "      <th>abs_sum</th>\n",
       "      <th>argmax</th>\n",
       "      <th>...</th>\n",
       "      <th>rolling_mean_2000</th>\n",
       "      <th>rolling_mean_4000</th>\n",
       "      <th>rolling_mean_10000</th>\n",
       "      <th>rolling_std_100</th>\n",
       "      <th>rolling_std_500</th>\n",
       "      <th>rolling_std_1000</th>\n",
       "      <th>rolling_std_2000</th>\n",
       "      <th>rolling_std_4000</th>\n",
       "      <th>rolling_std_10000</th>\n",
       "      <th>time_to_failure</th>\n",
       "    </tr>\n",
       "  </thead>\n",
       "  <tbody>\n",
       "    <tr>\n",
       "      <th>count</th>\n",
       "      <td>4195.000000000</td>\n",
       "      <td>4195.000000000</td>\n",
       "      <td>4195.000000000</td>\n",
       "      <td>4195.000000000</td>\n",
       "      <td>4195.000000000</td>\n",
       "      <td>4195.000000000</td>\n",
       "      <td>4195.000000000</td>\n",
       "      <td>4195.000000000</td>\n",
       "      <td>4.195000000e+03</td>\n",
       "      <td>4195.000000000</td>\n",
       "      <td>...</td>\n",
       "      <td>4195.000000000</td>\n",
       "      <td>4195.000000000</td>\n",
       "      <td>4195.000000000</td>\n",
       "      <td>4195.000000000</td>\n",
       "      <td>4195.000000000</td>\n",
       "      <td>4195.000000000</td>\n",
       "      <td>4195.000000000</td>\n",
       "      <td>4195.000000000</td>\n",
       "      <td>4195.000000000</td>\n",
       "      <td>4195.000000000</td>\n",
       "    </tr>\n",
       "    <tr>\n",
       "      <th>mean</th>\n",
       "      <td>4.519475158</td>\n",
       "      <td>6.547788191</td>\n",
       "      <td>-149.190941597</td>\n",
       "      <td>163.522288439</td>\n",
       "      <td>677807.531823599</td>\n",
       "      <td>5.547366504</td>\n",
       "      <td>5.750164895</td>\n",
       "      <td>170.046245530</td>\n",
       "      <td>8.319850017e+05</td>\n",
       "      <td>75732.748748510</td>\n",
       "      <td>...</td>\n",
       "      <td>4.494530245</td>\n",
       "      <td>4.519455817</td>\n",
       "      <td>4.651122824</td>\n",
       "      <td>4.519434433</td>\n",
       "      <td>4.875305718</td>\n",
       "      <td>4.519406578</td>\n",
       "      <td>5.147596567</td>\n",
       "      <td>4.519440725</td>\n",
       "      <td>5.534768028</td>\n",
       "      <td>5.683670383</td>\n",
       "    </tr>\n",
       "    <tr>\n",
       "      <th>std</th>\n",
       "      <td>0.256049486</td>\n",
       "      <td>8.503939490</td>\n",
       "      <td>265.087983548</td>\n",
       "      <td>272.930331447</td>\n",
       "      <td>39087.639872457</td>\n",
       "      <td>1.517037556</td>\n",
       "      <td>8.339211436</td>\n",
       "      <td>296.887014915</td>\n",
       "      <td>2.277461406e+05</td>\n",
       "      <td>43215.786643884</td>\n",
       "      <td>...</td>\n",
       "      <td>2.100400425</td>\n",
       "      <td>0.256133707</td>\n",
       "      <td>2.204306437</td>\n",
       "      <td>0.256222511</td>\n",
       "      <td>2.393564200</td>\n",
       "      <td>0.256388311</td>\n",
       "      <td>2.723462863</td>\n",
       "      <td>0.256914819</td>\n",
       "      <td>3.492272857</td>\n",
       "      <td>3.673246303</td>\n",
       "    </tr>\n",
       "    <tr>\n",
       "      <th>min</th>\n",
       "      <td>3.596313333</td>\n",
       "      <td>2.802720142</td>\n",
       "      <td>-5515.000000000</td>\n",
       "      <td>23.000000000</td>\n",
       "      <td>207622.000000000</td>\n",
       "      <td>4.147706667</td>\n",
       "      <td>2.589085218</td>\n",
       "      <td>23.000000000</td>\n",
       "      <td>2.189980000e+05</td>\n",
       "      <td>32.000000000</td>\n",
       "      <td>...</td>\n",
       "      <td>2.763978830</td>\n",
       "      <td>3.596077322</td>\n",
       "      <td>2.773865037</td>\n",
       "      <td>3.596091178</td>\n",
       "      <td>2.782937017</td>\n",
       "      <td>3.594675703</td>\n",
       "      <td>2.790480525</td>\n",
       "      <td>3.596157421</td>\n",
       "      <td>2.795723461</td>\n",
       "      <td>0.006397657</td>\n",
       "    </tr>\n",
       "    <tr>\n",
       "      <th>25%</th>\n",
       "      <td>4.349496667</td>\n",
       "      <td>4.478637142</td>\n",
       "      <td>-154.000000000</td>\n",
       "      <td>92.000000000</td>\n",
       "      <td>652414.000000000</td>\n",
       "      <td>5.061843333</td>\n",
       "      <td>3.862810034</td>\n",
       "      <td>94.000000000</td>\n",
       "      <td>7.592765000e+05</td>\n",
       "      <td>38923.000000000</td>\n",
       "      <td>...</td>\n",
       "      <td>3.608049516</td>\n",
       "      <td>4.349204827</td>\n",
       "      <td>3.692809198</td>\n",
       "      <td>4.349688480</td>\n",
       "      <td>3.822511676</td>\n",
       "      <td>4.350300757</td>\n",
       "      <td>3.969471868</td>\n",
       "      <td>4.350899598</td>\n",
       "      <td>4.154359407</td>\n",
       "      <td>2.635348205</td>\n",
       "    </tr>\n",
       "    <tr>\n",
       "      <th>50%</th>\n",
       "      <td>4.522146667</td>\n",
       "      <td>5.618797775</td>\n",
       "      <td>-111.000000000</td>\n",
       "      <td>123.000000000</td>\n",
       "      <td>678274.000000000</td>\n",
       "      <td>5.380853333</td>\n",
       "      <td>4.781513433</td>\n",
       "      <td>127.000000000</td>\n",
       "      <td>8.071280000e+05</td>\n",
       "      <td>76146.000000000</td>\n",
       "      <td>...</td>\n",
       "      <td>4.290168141</td>\n",
       "      <td>4.521862665</td>\n",
       "      <td>4.429379855</td>\n",
       "      <td>4.521381707</td>\n",
       "      <td>4.621979719</td>\n",
       "      <td>4.522010216</td>\n",
       "      <td>4.857082991</td>\n",
       "      <td>4.522608771</td>\n",
       "      <td>5.141857763</td>\n",
       "      <td>5.358795935</td>\n",
       "    </tr>\n",
       "    <tr>\n",
       "      <th>75%</th>\n",
       "      <td>4.693350000</td>\n",
       "      <td>6.880903553</td>\n",
       "      <td>-79.000000000</td>\n",
       "      <td>170.000000000</td>\n",
       "      <td>704002.500000000</td>\n",
       "      <td>5.748553333</td>\n",
       "      <td>5.887947258</td>\n",
       "      <td>175.000000000</td>\n",
       "      <td>8.622830000e+05</td>\n",
       "      <td>112417.500000000</td>\n",
       "      <td>...</td>\n",
       "      <td>4.944028752</td>\n",
       "      <td>4.693063728</td>\n",
       "      <td>5.140581035</td>\n",
       "      <td>4.693345636</td>\n",
       "      <td>5.419183066</td>\n",
       "      <td>4.693747711</td>\n",
       "      <td>5.746768467</td>\n",
       "      <td>4.693672359</td>\n",
       "      <td>6.171136010</td>\n",
       "      <td>8.177499733</td>\n",
       "    </tr>\n",
       "    <tr>\n",
       "      <th>max</th>\n",
       "      <td>5.391993333</td>\n",
       "      <td>153.703569356</td>\n",
       "      <td>-15.000000000</td>\n",
       "      <td>5444.000000000</td>\n",
       "      <td>808799.000000000</td>\n",
       "      <td>32.762073333</td>\n",
       "      <td>150.432368254</td>\n",
       "      <td>5515.000000000</td>\n",
       "      <td>4.914311000e+06</td>\n",
       "      <td>149985.000000000</td>\n",
       "      <td>...</td>\n",
       "      <td>40.833016217</td>\n",
       "      <td>5.392530339</td>\n",
       "      <td>42.577828502</td>\n",
       "      <td>5.391952193</td>\n",
       "      <td>46.048275306</td>\n",
       "      <td>5.390577464</td>\n",
       "      <td>52.659806087</td>\n",
       "      <td>5.382573062</td>\n",
       "      <td>68.680476387</td>\n",
       "      <td>16.103195567</td>\n",
       "    </tr>\n",
       "  </tbody>\n",
       "</table>\n",
       "<p>8 rows × 4028 columns</p>\n",
       "</div>"
      ],
      "text/plain": [
       "                 mean             std             min             max  \\\n",
       "count  4195.000000000  4195.000000000  4195.000000000  4195.000000000   \n",
       "mean      4.519475158     6.547788191  -149.190941597   163.522288439   \n",
       "std       0.256049486     8.503939490   265.087983548   272.930331447   \n",
       "min       3.596313333     2.802720142 -5515.000000000    23.000000000   \n",
       "25%       4.349496667     4.478637142  -154.000000000    92.000000000   \n",
       "50%       4.522146667     5.618797775  -111.000000000   123.000000000   \n",
       "75%       4.693350000     6.880903553   -79.000000000   170.000000000   \n",
       "max       5.391993333   153.703569356   -15.000000000  5444.000000000   \n",
       "\n",
       "                    sum        abs_mean         abs_std         abs_max  \\\n",
       "count    4195.000000000  4195.000000000  4195.000000000  4195.000000000   \n",
       "mean   677807.531823599     5.547366504     5.750164895   170.046245530   \n",
       "std     39087.639872457     1.517037556     8.339211436   296.887014915   \n",
       "min    207622.000000000     4.147706667     2.589085218    23.000000000   \n",
       "25%    652414.000000000     5.061843333     3.862810034    94.000000000   \n",
       "50%    678274.000000000     5.380853333     4.781513433   127.000000000   \n",
       "75%    704002.500000000     5.748553333     5.887947258   175.000000000   \n",
       "max    808799.000000000    32.762073333   150.432368254  5515.000000000   \n",
       "\n",
       "               abs_sum            argmax  ...  rolling_mean_2000  \\\n",
       "count  4.195000000e+03    4195.000000000  ...     4195.000000000   \n",
       "mean   8.319850017e+05   75732.748748510  ...        4.494530245   \n",
       "std    2.277461406e+05   43215.786643884  ...        2.100400425   \n",
       "min    2.189980000e+05      32.000000000  ...        2.763978830   \n",
       "25%    7.592765000e+05   38923.000000000  ...        3.608049516   \n",
       "50%    8.071280000e+05   76146.000000000  ...        4.290168141   \n",
       "75%    8.622830000e+05  112417.500000000  ...        4.944028752   \n",
       "max    4.914311000e+06  149985.000000000  ...       40.833016217   \n",
       "\n",
       "       rolling_mean_4000  rolling_mean_10000  rolling_std_100  \\\n",
       "count     4195.000000000      4195.000000000   4195.000000000   \n",
       "mean         4.519455817         4.651122824      4.519434433   \n",
       "std          0.256133707         2.204306437      0.256222511   \n",
       "min          3.596077322         2.773865037      3.596091178   \n",
       "25%          4.349204827         3.692809198      4.349688480   \n",
       "50%          4.521862665         4.429379855      4.521381707   \n",
       "75%          4.693063728         5.140581035      4.693345636   \n",
       "max          5.392530339        42.577828502      5.391952193   \n",
       "\n",
       "       rolling_std_500  rolling_std_1000  rolling_std_2000  rolling_std_4000  \\\n",
       "count   4195.000000000    4195.000000000    4195.000000000    4195.000000000   \n",
       "mean       4.875305718       4.519406578       5.147596567       4.519440725   \n",
       "std        2.393564200       0.256388311       2.723462863       0.256914819   \n",
       "min        2.782937017       3.594675703       2.790480525       3.596157421   \n",
       "25%        3.822511676       4.350300757       3.969471868       4.350899598   \n",
       "50%        4.621979719       4.522010216       4.857082991       4.522608771   \n",
       "75%        5.419183066       4.693747711       5.746768467       4.693672359   \n",
       "max       46.048275306       5.390577464      52.659806087       5.382573062   \n",
       "\n",
       "       rolling_std_10000  time_to_failure  \n",
       "count     4195.000000000   4195.000000000  \n",
       "mean         5.534768028      5.683670383  \n",
       "std          3.492272857      3.673246303  \n",
       "min          2.795723461      0.006397657  \n",
       "25%          4.154359407      2.635348205  \n",
       "50%          5.141857763      5.358795935  \n",
       "75%          6.171136010      8.177499733  \n",
       "max         68.680476387     16.103195567  \n",
       "\n",
       "[8 rows x 4028 columns]"
      ]
     },
     "execution_count": 8,
     "metadata": {},
     "output_type": "execute_result"
    }
   ],
   "source": [
    "df_train.describe()"
   ]
  },
  {
   "cell_type": "code",
   "execution_count": 25,
   "metadata": {},
   "outputs": [
    {
     "data": {
      "text/html": [
       "<div>\n",
       "<style scoped>\n",
       "    .dataframe tbody tr th:only-of-type {\n",
       "        vertical-align: middle;\n",
       "    }\n",
       "\n",
       "    .dataframe tbody tr th {\n",
       "        vertical-align: top;\n",
       "    }\n",
       "\n",
       "    .dataframe thead th {\n",
       "        text-align: right;\n",
       "    }\n",
       "</style>\n",
       "<table border=\"1\" class=\"dataframe\">\n",
       "  <thead>\n",
       "    <tr style=\"text-align: right;\">\n",
       "      <th></th>\n",
       "      <th>mean</th>\n",
       "      <th>std</th>\n",
       "      <th>min</th>\n",
       "      <th>max</th>\n",
       "      <th>sum</th>\n",
       "      <th>abs_mean</th>\n",
       "      <th>abs_std</th>\n",
       "      <th>abs_max</th>\n",
       "      <th>abs_sum</th>\n",
       "      <th>argmax</th>\n",
       "      <th>...</th>\n",
       "      <th>rolling_mean_2000</th>\n",
       "      <th>rolling_mean_4000</th>\n",
       "      <th>rolling_mean_10000</th>\n",
       "      <th>rolling_std_100</th>\n",
       "      <th>rolling_std_500</th>\n",
       "      <th>rolling_std_1000</th>\n",
       "      <th>rolling_std_2000</th>\n",
       "      <th>rolling_std_4000</th>\n",
       "      <th>rolling_std_10000</th>\n",
       "      <th>time_to_failure</th>\n",
       "    </tr>\n",
       "  </thead>\n",
       "  <tbody>\n",
       "    <tr>\n",
       "      <th>0</th>\n",
       "      <td>4.884113333</td>\n",
       "      <td>5.101106131</td>\n",
       "      <td>-98.0</td>\n",
       "      <td>104.0</td>\n",
       "      <td>732617.0</td>\n",
       "      <td>5.576566667</td>\n",
       "      <td>4.333324674</td>\n",
       "      <td>104.0</td>\n",
       "      <td>836485.0</td>\n",
       "      <td>2592.0</td>\n",
       "      <td>...</td>\n",
       "      <td>4.182269694</td>\n",
       "      <td>4.883418266</td>\n",
       "      <td>4.288590311</td>\n",
       "      <td>4.881665249</td>\n",
       "      <td>4.411259502</td>\n",
       "      <td>4.879250551</td>\n",
       "      <td>4.460670633</td>\n",
       "      <td>4.876886100</td>\n",
       "      <td>4.431413244</td>\n",
       "      <td>1.430797186</td>\n",
       "    </tr>\n",
       "    <tr>\n",
       "      <th>1</th>\n",
       "      <td>4.725766667</td>\n",
       "      <td>6.588823782</td>\n",
       "      <td>-154.0</td>\n",
       "      <td>181.0</td>\n",
       "      <td>708865.0</td>\n",
       "      <td>5.734166667</td>\n",
       "      <td>5.732776966</td>\n",
       "      <td>181.0</td>\n",
       "      <td>860125.0</td>\n",
       "      <td>11860.0</td>\n",
       "      <td>...</td>\n",
       "      <td>4.653421355</td>\n",
       "      <td>4.724876383</td>\n",
       "      <td>4.843485536</td>\n",
       "      <td>4.724689860</td>\n",
       "      <td>5.116232929</td>\n",
       "      <td>4.721938879</td>\n",
       "      <td>5.476469293</td>\n",
       "      <td>4.713898269</td>\n",
       "      <td>6.046480431</td>\n",
       "      <td>1.391498893</td>\n",
       "    </tr>\n",
       "    <tr>\n",
       "      <th>2</th>\n",
       "      <td>4.906393333</td>\n",
       "      <td>6.967397034</td>\n",
       "      <td>-106.0</td>\n",
       "      <td>140.0</td>\n",
       "      <td>735959.0</td>\n",
       "      <td>6.152646667</td>\n",
       "      <td>5.895944714</td>\n",
       "      <td>140.0</td>\n",
       "      <td>922897.0</td>\n",
       "      <td>129279.0</td>\n",
       "      <td>...</td>\n",
       "      <td>5.178792262</td>\n",
       "      <td>4.905839578</td>\n",
       "      <td>5.423012904</td>\n",
       "      <td>4.906173495</td>\n",
       "      <td>5.774157759</td>\n",
       "      <td>4.904014151</td>\n",
       "      <td>6.125550607</td>\n",
       "      <td>4.901086207</td>\n",
       "      <td>6.324556488</td>\n",
       "      <td>1.353196095</td>\n",
       "    </tr>\n",
       "    <tr>\n",
       "      <th>3</th>\n",
       "      <td>4.902240000</td>\n",
       "      <td>6.922305187</td>\n",
       "      <td>-199.0</td>\n",
       "      <td>197.0</td>\n",
       "      <td>735336.0</td>\n",
       "      <td>5.933960000</td>\n",
       "      <td>6.061213600</td>\n",
       "      <td>199.0</td>\n",
       "      <td>890094.0</td>\n",
       "      <td>67060.0</td>\n",
       "      <td>...</td>\n",
       "      <td>4.743548231</td>\n",
       "      <td>4.901486292</td>\n",
       "      <td>4.939280458</td>\n",
       "      <td>4.901312417</td>\n",
       "      <td>5.226714645</td>\n",
       "      <td>4.899401829</td>\n",
       "      <td>5.569334638</td>\n",
       "      <td>4.890118824</td>\n",
       "      <td>6.102269867</td>\n",
       "      <td>1.313797802</td>\n",
       "    </tr>\n",
       "    <tr>\n",
       "      <th>4</th>\n",
       "      <td>4.908720000</td>\n",
       "      <td>7.301110190</td>\n",
       "      <td>-126.0</td>\n",
       "      <td>145.0</td>\n",
       "      <td>736308.0</td>\n",
       "      <td>6.110586667</td>\n",
       "      <td>6.329485314</td>\n",
       "      <td>145.0</td>\n",
       "      <td>916588.0</td>\n",
       "      <td>80896.0</td>\n",
       "      <td>...</td>\n",
       "      <td>4.950485374</td>\n",
       "      <td>4.910195703</td>\n",
       "      <td>5.121868457</td>\n",
       "      <td>4.910102418</td>\n",
       "      <td>5.377340466</td>\n",
       "      <td>4.909516745</td>\n",
       "      <td>5.770087321</td>\n",
       "      <td>4.912307696</td>\n",
       "      <td>6.314026153</td>\n",
       "      <td>1.274399509</td>\n",
       "    </tr>\n",
       "  </tbody>\n",
       "</table>\n",
       "<p>5 rows × 4028 columns</p>\n",
       "</div>"
      ],
      "text/plain": [
       "          mean          std    min    max       sum     abs_mean      abs_std  \\\n",
       "0  4.884113333  5.101106131  -98.0  104.0  732617.0  5.576566667  4.333324674   \n",
       "1  4.725766667  6.588823782 -154.0  181.0  708865.0  5.734166667  5.732776966   \n",
       "2  4.906393333  6.967397034 -106.0  140.0  735959.0  6.152646667  5.895944714   \n",
       "3  4.902240000  6.922305187 -199.0  197.0  735336.0  5.933960000  6.061213600   \n",
       "4  4.908720000  7.301110190 -126.0  145.0  736308.0  6.110586667  6.329485314   \n",
       "\n",
       "   abs_max   abs_sum    argmax       ...         rolling_mean_2000  \\\n",
       "0    104.0  836485.0    2592.0       ...               4.182269694   \n",
       "1    181.0  860125.0   11860.0       ...               4.653421355   \n",
       "2    140.0  922897.0  129279.0       ...               5.178792262   \n",
       "3    199.0  890094.0   67060.0       ...               4.743548231   \n",
       "4    145.0  916588.0   80896.0       ...               4.950485374   \n",
       "\n",
       "   rolling_mean_4000  rolling_mean_10000  rolling_std_100  rolling_std_500  \\\n",
       "0        4.883418266         4.288590311      4.881665249      4.411259502   \n",
       "1        4.724876383         4.843485536      4.724689860      5.116232929   \n",
       "2        4.905839578         5.423012904      4.906173495      5.774157759   \n",
       "3        4.901486292         4.939280458      4.901312417      5.226714645   \n",
       "4        4.910195703         5.121868457      4.910102418      5.377340466   \n",
       "\n",
       "   rolling_std_1000  rolling_std_2000  rolling_std_4000  rolling_std_10000  \\\n",
       "0       4.879250551       4.460670633       4.876886100        4.431413244   \n",
       "1       4.721938879       5.476469293       4.713898269        6.046480431   \n",
       "2       4.904014151       6.125550607       4.901086207        6.324556488   \n",
       "3       4.899401829       5.569334638       4.890118824        6.102269867   \n",
       "4       4.909516745       5.770087321       4.912307696        6.314026153   \n",
       "\n",
       "   time_to_failure  \n",
       "0      1.430797186  \n",
       "1      1.391498893  \n",
       "2      1.353196095  \n",
       "3      1.313797802  \n",
       "4      1.274399509  \n",
       "\n",
       "[5 rows x 4028 columns]"
      ]
     },
     "execution_count": 25,
     "metadata": {},
     "output_type": "execute_result"
    }
   ],
   "source": [
    "df_train.head()"
   ]
  },
  {
   "cell_type": "code",
   "execution_count": 9,
   "metadata": {},
   "outputs": [
    {
     "data": {
      "text/plain": [
       "mean                  0\n",
       "std                   0\n",
       "min                   0\n",
       "max                   0\n",
       "sum                   0\n",
       "abs_mean              0\n",
       "abs_std               0\n",
       "abs_max               0\n",
       "abs_sum               0\n",
       "argmax                0\n",
       "rate_mean             0\n",
       "rate_std              0\n",
       "rate_max              0\n",
       "rate_min              0\n",
       "rate_abs_max          0\n",
       "fftr0                 0\n",
       "fftr1                 0\n",
       "fftr2                 0\n",
       "fftr3                 0\n",
       "fftr4                 0\n",
       "fftr5                 0\n",
       "fftr6                 0\n",
       "fftr7                 0\n",
       "fftr8                 0\n",
       "fftr9                 0\n",
       "fftr10                0\n",
       "fftr11                0\n",
       "fftr12                0\n",
       "fftr13                0\n",
       "fftr14                0\n",
       "                     ..\n",
       "ffti149983            0\n",
       "ffti149984            0\n",
       "ffti149985            0\n",
       "ffti149986            0\n",
       "ffti149987            0\n",
       "ffti149988            0\n",
       "ffti149989            0\n",
       "ffti149990            0\n",
       "ffti149991            0\n",
       "ffti149992            0\n",
       "ffti149993            0\n",
       "ffti149994            0\n",
       "ffti149995            0\n",
       "ffti149996            0\n",
       "ffti149997            0\n",
       "ffti149998            0\n",
       "ffti149999            0\n",
       "rolling_mean_100      0\n",
       "rolling_mean_500      0\n",
       "rolling_mean_1000     0\n",
       "rolling_mean_2000     0\n",
       "rolling_mean_4000     0\n",
       "rolling_mean_10000    0\n",
       "rolling_std_100       0\n",
       "rolling_std_500       0\n",
       "rolling_std_1000      0\n",
       "rolling_std_2000      0\n",
       "rolling_std_4000      0\n",
       "rolling_std_10000     0\n",
       "time_to_failure       0\n",
       "Length: 4028, dtype: int64"
      ]
     },
     "execution_count": 9,
     "metadata": {},
     "output_type": "execute_result"
    }
   ],
   "source": [
    "# Check if any nan values are generated\n",
    "df_train.isna().sum()"
   ]
  },
  {
   "cell_type": "code",
   "execution_count": 6,
   "metadata": {},
   "outputs": [],
   "source": [
    "# Seperate the data into X_train and Y_train\n",
    "\n",
    "X_train = df_train.drop(columns=['time_to_failure']).values\n",
    "y_train = df_train['time_to_failure'].values"
   ]
  },
  {
   "cell_type": "markdown",
   "metadata": {},
   "source": [
    "### Feature Engineering"
   ]
  },
  {
   "cell_type": "markdown",
   "metadata": {},
   "source": [
    "Since the data we use here has only one feature to use for learning and the data set is fairly huge to work with, it is important to capture the essence of the data. Thus, we are generating more features using the exsisting data by using methods like calulating mean, standard deviation, rolling statistics etc.\n",
    "\n",
    "Further, to choose the best features that contribute significantly to model, we build a random forest regressor in order to identify the top contributing features."
   ]
  },
  {
   "cell_type": "code",
   "execution_count": 7,
   "metadata": {},
   "outputs": [],
   "source": [
    "# Choosing the best contributing features using random forest regressor\n",
    "rfr = RandomForestRegressor(n_estimators=500, random_state=0, n_jobs=-1)\n",
    "pipe_rfr = Pipeline([('StandardScaler', StandardScaler()), ('RandomForestRegressor', rfr)])"
   ]
  },
  {
   "cell_type": "code",
   "execution_count": 8,
   "metadata": {},
   "outputs": [
    {
     "data": {
      "text/plain": [
       "Pipeline(memory=None,\n",
       "     steps=[('StandardScaler', StandardScaler(copy=True, with_mean=True, with_std=True)), ('RandomForestRegressor', RandomForestRegressor(bootstrap=True, criterion='mse', max_depth=None,\n",
       "           max_features='auto', max_leaf_nodes=None,\n",
       "           min_impurity_decrease=0.0, min_impurity_split=None,\n",
       "           min_samples_leaf=1, min_samples_split=2,\n",
       "           min_weight_fraction_leaf=0.0, n_estimators=500, n_jobs=-1,\n",
       "           oob_score=False, random_state=0, verbose=0, warm_start=False))])"
      ]
     },
     "execution_count": 8,
     "metadata": {},
     "output_type": "execute_result"
    }
   ],
   "source": [
    "# Calling fit on the random forest regressor\n",
    "pipe_rfr.fit(X_train, y_train)"
   ]
  },
  {
   "cell_type": "code",
   "execution_count": 9,
   "metadata": {},
   "outputs": [],
   "source": [
    "# Creating a dataframe to choose the best features\n",
    "features = pd.DataFrame({'Feature': columns, 'Importance': rfr.feature_importances_, 'Correlation': df_train.drop(columns='time_to_failure').corrwith(df_train['time_to_failure']).abs().values})"
   ]
  },
  {
   "cell_type": "code",
   "execution_count": 10,
   "metadata": {},
   "outputs": [
    {
     "data": {
      "text/html": [
       "<div>\n",
       "<style scoped>\n",
       "    .dataframe tbody tr th:only-of-type {\n",
       "        vertical-align: middle;\n",
       "    }\n",
       "\n",
       "    .dataframe tbody tr th {\n",
       "        vertical-align: top;\n",
       "    }\n",
       "\n",
       "    .dataframe thead th {\n",
       "        text-align: right;\n",
       "    }\n",
       "</style>\n",
       "<table border=\"1\" class=\"dataframe\">\n",
       "  <thead>\n",
       "    <tr style=\"text-align: right;\">\n",
       "      <th></th>\n",
       "      <th>Feature</th>\n",
       "      <th>Importance</th>\n",
       "      <th>Correlation</th>\n",
       "    </tr>\n",
       "  </thead>\n",
       "  <tbody>\n",
       "    <tr>\n",
       "      <th>4016</th>\n",
       "      <td>rolling_mean_500</td>\n",
       "      <td>0.409480064</td>\n",
       "      <td>0.342833017</td>\n",
       "    </tr>\n",
       "    <tr>\n",
       "      <th>4018</th>\n",
       "      <td>rolling_mean_2000</td>\n",
       "      <td>0.016739319</td>\n",
       "      <td>0.351513349</td>\n",
       "    </tr>\n",
       "    <tr>\n",
       "      <th>6</th>\n",
       "      <td>abs_std</td>\n",
       "      <td>0.003146086</td>\n",
       "      <td>0.201231156</td>\n",
       "    </tr>\n",
       "    <tr>\n",
       "      <th>4020</th>\n",
       "      <td>rolling_mean_10000</td>\n",
       "      <td>0.002197235</td>\n",
       "      <td>0.358516850</td>\n",
       "    </tr>\n",
       "    <tr>\n",
       "      <th>4025</th>\n",
       "      <td>rolling_std_4000</td>\n",
       "      <td>0.002072427</td>\n",
       "      <td>0.031354446</td>\n",
       "    </tr>\n",
       "  </tbody>\n",
       "</table>\n",
       "</div>"
      ],
      "text/plain": [
       "                 Feature   Importance  Correlation\n",
       "4016    rolling_mean_500  0.409480064  0.342833017\n",
       "4018   rolling_mean_2000  0.016739319  0.351513349\n",
       "6                abs_std  0.003146086  0.201231156\n",
       "4020  rolling_mean_10000  0.002197235  0.358516850\n",
       "4025    rolling_std_4000  0.002072427  0.031354446"
      ]
     },
     "execution_count": 10,
     "metadata": {},
     "output_type": "execute_result"
    }
   ],
   "source": [
    "# Sorting the features in descending order so we choose the best one\n",
    "features = features.sort_values(by='Importance', ascending=False)\n",
    "features.head()"
   ]
  },
  {
   "cell_type": "code",
   "execution_count": 11,
   "metadata": {},
   "outputs": [
    {
     "data": {
      "image/png": "[encoded data removed]",
      "text/plain": [
       "<Figure size 1152x648 with 1 Axes>"
      ]
     },
     "metadata": {
      "needs_background": "light"
     },
     "output_type": "display_data"
    }
   ],
   "source": [
    "# Visualizing the best performing feature from the 'features' dataframe\n",
    "plt.figure(figsize=(16, 9))\n",
    "plt.barh(y='Feature', width='Importance', data=features[:27])\n",
    "plt.show()"
   ]
  },
  {
   "cell_type": "code",
   "execution_count": 12,
   "metadata": {},
   "outputs": [],
   "source": [
    "# Subsetting the top 27 features\n",
    "n_features = 27\n",
    "X_train = df_train[features['Feature'][:n_features]].values\n",
    "y_train = df_train['time_to_failure'].values"
   ]
  },
  {
   "cell_type": "code",
   "execution_count": 13,
   "metadata": {},
   "outputs": [],
   "source": [
    "# Traverse through the test directory\n",
    "path = 'test/'\n",
    "files = [f[:-4] for f in listdir(path) if isfile(path + f)]"
   ]
  },
  {
   "cell_type": "code",
   "execution_count": 14,
   "metadata": {},
   "outputs": [],
   "source": [
    "# Prepare as submission data frame\n",
    "predictions = pd.DataFrame(index=files, dtype=np.float, columns=['time_to_failure'])\n",
    "predictions.index.name = 'seg_id'"
   ]
  },
  {
   "cell_type": "markdown",
   "metadata": {},
   "source": [
    "### Linear Regression \n",
    "We started with simple linear regression, since that is the simplest and most straight forward method we are familiar with"
   ]
  },
  {
   "cell_type": "code",
   "execution_count": 15,
   "metadata": {},
   "outputs": [],
   "source": [
    "# Prepare pipeline\n",
    "\n",
    "pipe_linear = Pipeline([('StandardScaler', StandardScaler()), ('Linear', linear_model.LinearRegression())])"
   ]
  },
  {
   "cell_type": "code",
   "execution_count": 16,
   "metadata": {},
   "outputs": [],
   "source": [
    "# Hyperparamters for the linear model\n",
    "\n",
    "parameters_linear = [{'Linear__fit_intercept':('True', 'False'), 'Linear__normalize':('True', 'False'), 'Linear__copy_X':('True', 'False')}]"
   ]
  },
  {
   "cell_type": "code",
   "execution_count": 17,
   "metadata": {},
   "outputs": [
    {
     "name": "stdout",
     "output_type": "stream",
     "text": [
      "Best score: 0.39180189723712994\n",
      "Best hyperparameters: {'Linear__copy_X': 'True', 'Linear__fit_intercept': 'True', 'Linear__normalize': 'True'}\n"
     ]
    }
   ],
   "source": [
    "# Perform grid search CV on with different parameters\n",
    "\n",
    "gs_linear = GridSearchCV(\n",
    "    estimator=pipe_linear,\n",
    "    param_grid=parameters_linear,\n",
    "    iid=False,\n",
    "    n_jobs=-1,\n",
    "    cv = KFold(\n",
    "        n_splits=10,\n",
    "        shuffle=True,\n",
    "        random_state=0\n",
    "    )\n",
    ")\n",
    "\n",
    "gs_linear.fit(X_train, y_train)\n",
    "print('Best score:', gs_linear.best_score_)\n",
    "print('Best hyperparameters:', gs_linear.best_params_)"
   ]
  },
  {
   "cell_type": "markdown",
   "metadata": {},
   "source": [
    "### Elastic Net\n",
    "To improve the Linear regression results, we used a penalised method like Elastic search. As we can notice, we got slightly better results"
   ]
  },
  {
   "cell_type": "code",
   "execution_count": 18,
   "metadata": {},
   "outputs": [],
   "source": [
    "# Prepare pipeline\n",
    "\n",
    "pipe_elastic = Pipeline([('StandardScaler', StandardScaler()), ('ElasticNet', ElasticNet(random_state=0))])"
   ]
  },
  {
   "cell_type": "code",
   "execution_count": 19,
   "metadata": {},
   "outputs": [],
   "source": [
    "# Hyperparamters for the elasticnet model\n",
    "\n",
    "param_grid_elastic = [{\"ElasticNet__max_iter\": [1, 5, 10], \"ElasticNet__alpha\": [0.0001, 0.001, 0.01, 0.1, 1, 10, 100], \"ElasticNet__l1_ratio\": np.arange(0.0, 1.0, 0.1)}]\n"
   ]
  },
  {
   "cell_type": "code",
   "execution_count": 20,
   "metadata": {},
   "outputs": [
    {
     "name": "stdout",
     "output_type": "stream",
     "text": [
      "Best score: 0.3364231269074221\n",
      "Best hyperparameters: {'ElasticNet__alpha': 0.0001, 'ElasticNet__l1_ratio': 0.9, 'ElasticNet__max_iter': 10}\n"
     ]
    }
   ],
   "source": [
    "# Perform grid search CV on with different parameters\n",
    "gs_elastic = GridSearchCV(\n",
    "    estimator=pipe_elastic,\n",
    "    param_grid=param_grid_elastic,\n",
    "    iid=False,\n",
    "    n_jobs=-1,\n",
    "    cv = KFold(\n",
    "        n_splits=10,\n",
    "        shuffle=True,\n",
    "        random_state=0\n",
    "    )\n",
    ")\n",
    "\n",
    "gs_elastic.fit(X_train, y_train)\n",
    "print('Best score:', gs_elastic.best_score_)\n",
    "print('Best hyperparameters:', gs_elastic.best_params_)"
   ]
  },
  {
   "cell_type": "markdown",
   "metadata": {},
   "source": [
    "### Neural Network"
   ]
  },
  {
   "cell_type": "markdown",
   "metadata": {},
   "source": [
    "The next model we are trying is neural network. Earthquakes are a complicated phenomenon, so we expect a neural network to be better at capturing the non-linearity and perform better than linear regression.\n",
    "\n",
    "We are using the top 27 features ranked by importance, so we search through a grid of different hidden layer numbers and sizes. The other hyperparameters being tuned are the learning rate, regularization parameter and the tolerance for cross validation score stopping."
   ]
  },
  {
   "cell_type": "code",
   "execution_count": 21,
   "metadata": {},
   "outputs": [],
   "source": [
    "# Prepare Pipeline\n",
    "\n",
    "pipe_nn = Pipeline([('StandardScaler', StandardScaler()), ('Regressor', MLPRegressor(random_state=0))])"
   ]
  },
  {
   "cell_type": "code",
   "execution_count": 22,
   "metadata": {},
   "outputs": [],
   "source": [
    "# Hyperparamters for the neural network model\n",
    "\n",
    "param_grid_nn = [{\n",
    "    'Regressor__hidden_layer_sizes': [(18), (18, 12), (18, 12, 8)],\n",
    "    'Regressor__alpha': [0.0001, 0.001, 0.01, 0.1],\n",
    "    'Regressor__learning_rate_init': [0.0001, 0.001, 0.01, 0.1],\n",
    "    'Regressor__tol': [0.0001, 0.001, 0.01]\n",
    "}]"
   ]
  },
  {
   "cell_type": "code",
   "execution_count": 23,
   "metadata": {},
   "outputs": [
    {
     "name": "stdout",
     "output_type": "stream",
     "text": [
      "Best score: 0.4384087789358146\n",
      "Best hyperparameters: {'Regressor__alpha': 0.01, 'Regressor__hidden_layer_sizes': 18, 'Regressor__learning_rate_init': 0.1, 'Regressor__tol': 0.01}\n"
     ]
    }
   ],
   "source": [
    "# Perform grid search CV on with different parameters\n",
    "\n",
    "gs_nn = GridSearchCV(\n",
    "    estimator=pipe_nn,\n",
    "    param_grid=param_grid_nn,\n",
    "    iid=False,\n",
    "    n_jobs=-1,\n",
    "    cv = KFold(\n",
    "        n_splits=10,\n",
    "        shuffle=True,\n",
    "        random_state=0\n",
    "    )\n",
    ")\n",
    "\n",
    "gs_nn.fit(X_train, y_train)\n",
    "print('Best score:', gs_nn.best_score_)\n",
    "print('Best hyperparameters:', gs_nn.best_params_)"
   ]
  },
  {
   "cell_type": "code",
   "execution_count": 24,
   "metadata": {},
   "outputs": [],
   "source": [
    "# Make a predictions empty dataframe to use later on\n",
    "\n",
    "predictions = pd.DataFrame(index=files, dtype=np.float, columns=['time_to_failure'])\n",
    "predictions.index.name = 'seg_id'"
   ]
  },
  {
   "cell_type": "code",
   "execution_count": 25,
   "metadata": {},
   "outputs": [],
   "source": [
    "# For all files in the test folder, run predict function and add to 'predictions' dataframe\n",
    "\n",
    "for f in files:\n",
    "    if f.startswith(\"seg_\"):\n",
    "        df = pd.read_csv(path+f+'.csv')\n",
    "        df_test = pd.DataFrame(np.array(generate_features(df)).reshape(1,-1), columns=columns)\n",
    "        X_test = df_test[features['Feature'][:n_features]].values\n",
    "        y = gs_nn.predict(X_test)[0]\n",
    "        predictions.loc[f, 'time_to_failure'] = y"
   ]
  },
  {
   "cell_type": "code",
   "execution_count": 26,
   "metadata": {},
   "outputs": [],
   "source": [
    "# Export the predictions dataframe to a csv\n",
    "\n",
    "predictions.to_csv('submission.csv')"
   ]
  },
  {
   "cell_type": "code",
   "execution_count": 27,
   "metadata": {},
   "outputs": [
    {
     "data": {
      "text/html": [
       "<div>\n",
       "<style scoped>\n",
       "    .dataframe tbody tr th:only-of-type {\n",
       "        vertical-align: middle;\n",
       "    }\n",
       "\n",
       "    .dataframe tbody tr th {\n",
       "        vertical-align: top;\n",
       "    }\n",
       "\n",
       "    .dataframe thead th {\n",
       "        text-align: right;\n",
       "    }\n",
       "</style>\n",
       "<table border=\"1\" class=\"dataframe\">\n",
       "  <thead>\n",
       "    <tr style=\"text-align: right;\">\n",
       "      <th></th>\n",
       "      <th>time_to_failure</th>\n",
       "    </tr>\n",
       "    <tr>\n",
       "      <th>seg_id</th>\n",
       "      <th></th>\n",
       "    </tr>\n",
       "  </thead>\n",
       "  <tbody>\n",
       "    <tr>\n",
       "      <th>seg_51f0a2</th>\n",
       "      <td>3.313018567</td>\n",
       "    </tr>\n",
       "    <tr>\n",
       "      <th>seg_de98fa</th>\n",
       "      <td>3.353641289</td>\n",
       "    </tr>\n",
       "    <tr>\n",
       "      <th>seg_ad82ca</th>\n",
       "      <td>5.807332119</td>\n",
       "    </tr>\n",
       "    <tr>\n",
       "      <th>seg_e3ca24</th>\n",
       "      <td>5.977805806</td>\n",
       "    </tr>\n",
       "    <tr>\n",
       "      <th>seg_64f8dc</th>\n",
       "      <td>4.180987860</td>\n",
       "    </tr>\n",
       "  </tbody>\n",
       "</table>\n",
       "</div>"
      ],
      "text/plain": [
       "            time_to_failure\n",
       "seg_id                     \n",
       "seg_51f0a2      3.313018567\n",
       "seg_de98fa      3.353641289\n",
       "seg_ad82ca      5.807332119\n",
       "seg_e3ca24      5.977805806\n",
       "seg_64f8dc      4.180987860"
      ]
     },
     "execution_count": 27,
     "metadata": {},
     "output_type": "execute_result"
    }
   ],
   "source": [
    "# Peek at the predictions\n",
    "\n",
    "predictions.head()"
   ]
  },
  {
   "cell_type": "markdown",
   "metadata": {},
   "source": [
    "### Neural Network using tensorflow"
   ]
  },
  {
   "cell_type": "code",
   "execution_count": 29,
   "metadata": {},
   "outputs": [],
   "source": [
    "# Create function returning a compiled network\n",
    "def kerasModel(optimizer, metrics, loss, activation, input_shape= X_train.shape[1]):\n",
    "    \n",
    "    # Start neural network\n",
    "    network = models.Sequential()\n",
    "\n",
    "    # Add fully connected layer with a ReLU activation function\n",
    "    network.add(layers.Dense(units=input_shape, activation=activation, input_dim=input_shape))\n",
    "\n",
    "    # Add fully connected layer with a ReLU activation function\n",
    "    network.add(layers.Dense(units= int(input_shape/2), activation=activation))\n",
    "\n",
    "    # Add fully connected layer with a sigmoid activation function\n",
    "    network.add(layers.Dense(units=1))\n",
    "\n",
    "    # Compile neural network\n",
    "    network.compile(loss=loss, # Cross-entropy\n",
    "                    optimizer=optimizer, # Optimizer\n",
    "                    metrics=[metrics]) # Accuracy performance metric\n",
    "    \n",
    "    # Return compiled network\n",
    "    return network"
   ]
  },
  {
   "cell_type": "code",
   "execution_count": 30,
   "metadata": {},
   "outputs": [],
   "source": [
    "KModel = KerasRegressor(build_fn=kerasModel, verbose=0)"
   ]
  },
  {
   "cell_type": "code",
   "execution_count": 31,
   "metadata": {},
   "outputs": [],
   "source": [
    "# Create hyperparameter space\n",
    "epochs = [50 , 100]\n",
    "batches = [50, 100]\n",
    "optimizer = ['adam','sgd']\n",
    "loss= ['mse','mae']\n",
    "activation = ['relu', 'exponential']\n",
    "metrics = ['mse','mae']\n",
    "\n",
    "# Create hyperparameter options\n",
    "hyperparameters = dict(Model__optimizer=optimizer, Model__loss = loss, Model__epochs=epochs, Model__batch_size=batches, Model__activation= activation,\n",
    "                            Model__metrics = metrics)"
   ]
  },
  {
   "cell_type": "code",
   "execution_count": 32,
   "metadata": {},
   "outputs": [],
   "source": [
    "pipe_keras = Pipeline([('StandardScaler', StandardScaler()), ('Model', KModel)])"
   ]
  },
  {
   "cell_type": "code",
   "execution_count": 33,
   "metadata": {},
   "outputs": [
    {
     "name": "stdout",
     "output_type": "stream",
     "text": [
      "WARNING:tensorflow:From /Users/honwet/anaconda3/lib/python3.6/site-packages/tensorflow/python/framework/op_def_library.py:263: colocate_with (from tensorflow.python.framework.ops) is deprecated and will be removed in a future version.\n",
      "Instructions for updating:\n",
      "Colocations handled automatically by placer.\n",
      "WARNING:tensorflow:From /Users/honwet/anaconda3/lib/python3.6/site-packages/tensorflow/python/ops/math_ops.py:3066: to_int32 (from tensorflow.python.ops.math_ops) is deprecated and will be removed in a future version.\n",
      "Instructions for updating:\n",
      "Use tf.cast instead.\n",
      "Best score: -2.1161506966347448\n",
      "Best hyperparameters: {'Model__activation': 'relu', 'Model__batch_size': 50, 'Model__epochs': 100, 'Model__loss': 'mae', 'Model__metrics': 'mae', 'Model__optimizer': 'adam'}\n"
     ]
    }
   ],
   "source": [
    "gs_keras = GridSearchCV(\n",
    "    estimator=pipe_keras,\n",
    "    param_grid=hyperparameters,\n",
    "    iid = False,\n",
    "    n_jobs=-1,\n",
    "    cv = KFold(\n",
    "        n_splits=10,\n",
    "        shuffle=True,\n",
    "        random_state=0\n",
    "    )\n",
    ")\n",
    "\n",
    "gs_keras.fit(X_train, y_train)\n",
    "print('Best score:', gs_keras.best_score_)\n",
    "print('Best hyperparameters:', gs_keras.best_params_)"
   ]
  },
  {
   "cell_type": "code",
   "execution_count": 34,
   "metadata": {},
   "outputs": [],
   "source": [
    "# Make a predictions empty dataframe to use later on\n",
    "\n",
    "predictions_Keras = pd.DataFrame(index=files, dtype=np.float, columns=['time_to_failure'])\n",
    "predictions_Keras.index.name = 'seg_id'"
   ]
  },
  {
   "cell_type": "code",
   "execution_count": 35,
   "metadata": {},
   "outputs": [],
   "source": [
    "# For all files in the test folder, run predict function and add to 'predictions' dataframe\n",
    "\n",
    "for f in files:\n",
    "    if f.startswith(\"seg_\"):\n",
    "        df = pd.read_csv(path+f+'.csv')\n",
    "        df_test = pd.DataFrame(np.array(generate_features(df)).reshape(1,-1), columns=columns)\n",
    "        X_test = df_test[features['Feature'][:n_features]].values\n",
    "        y = gs_nn.predict(X_test)[0]\n",
    "        predictions_Keras.loc[f, 'time_to_failure'] = y"
   ]
  },
  {
   "cell_type": "code",
   "execution_count": 36,
   "metadata": {},
   "outputs": [
    {
     "data": {
      "text/html": [
       "<div>\n",
       "<style scoped>\n",
       "    .dataframe tbody tr th:only-of-type {\n",
       "        vertical-align: middle;\n",
       "    }\n",
       "\n",
       "    .dataframe tbody tr th {\n",
       "        vertical-align: top;\n",
       "    }\n",
       "\n",
       "    .dataframe thead th {\n",
       "        text-align: right;\n",
       "    }\n",
       "</style>\n",
       "<table border=\"1\" class=\"dataframe\">\n",
       "  <thead>\n",
       "    <tr style=\"text-align: right;\">\n",
       "      <th></th>\n",
       "      <th>time_to_failure</th>\n",
       "    </tr>\n",
       "    <tr>\n",
       "      <th>seg_id</th>\n",
       "      <th></th>\n",
       "    </tr>\n",
       "  </thead>\n",
       "  <tbody>\n",
       "    <tr>\n",
       "      <th>seg_51f0a2</th>\n",
       "      <td>3.313018567</td>\n",
       "    </tr>\n",
       "    <tr>\n",
       "      <th>seg_de98fa</th>\n",
       "      <td>3.353641289</td>\n",
       "    </tr>\n",
       "    <tr>\n",
       "      <th>seg_ad82ca</th>\n",
       "      <td>5.807332119</td>\n",
       "    </tr>\n",
       "    <tr>\n",
       "      <th>seg_e3ca24</th>\n",
       "      <td>5.977805806</td>\n",
       "    </tr>\n",
       "    <tr>\n",
       "      <th>seg_64f8dc</th>\n",
       "      <td>4.180987860</td>\n",
       "    </tr>\n",
       "  </tbody>\n",
       "</table>\n",
       "</div>"
      ],
      "text/plain": [
       "            time_to_failure\n",
       "seg_id                     \n",
       "seg_51f0a2      3.313018567\n",
       "seg_de98fa      3.353641289\n",
       "seg_ad82ca      5.807332119\n",
       "seg_e3ca24      5.977805806\n",
       "seg_64f8dc      4.180987860"
      ]
     },
     "execution_count": 36,
     "metadata": {},
     "output_type": "execute_result"
    }
   ],
   "source": [
    "# Peek at the predictions\n",
    "\n",
    "predictions_Keras.head()"
   ]
  },
  {
   "cell_type": "code",
   "execution_count": 37,
   "metadata": {},
   "outputs": [],
   "source": [
    "# Export the predictions dataframe to a csv\n",
    "\n",
    "predictions_Keras.to_csv('submission_Keras.csv')"
   ]
  },
  {
   "cell_type": "markdown",
   "metadata": {},
   "source": [
    "### Conclusion"
   ]
  },
  {
   "cell_type": "markdown",
   "metadata": {},
   "source": [
    "Based on the cross validation score, we expect Neural Network with 1 input layer, 1 hidden layer with 18 nodes and 1 output layer to give us the best R<sup>2</sup> coefficient. \n",
    "\n",
    "Another important observation we can make in this experiment is that, the performance of the model is highly correlated with the features used. As we can see in the graph, rolling_mean_500 has an importance value of 0.41, followed by  rolling_mean_2000 with an importance value of 0.01. We can see a strike difference in the performance of the features.\n",
    "\n",
    "In conclusion, Neural Network is the best model for this data. More importantly, efficient feature engineering is the key to building a good model."
   ]
  },
  {
   "cell_type": "markdown",
   "metadata": {},
   "source": [
    "### References\n",
    "\n",
    "- https://kaggle.com/c/LANL-Earthquake-Prediction/discussion\n",
    "- https://scikit-learn.org/stable/modules/generated/sklearn.linear_model.ElasticNet.html\n",
    "- https://machinelearningmastery.com/grid-search-hyperparameters-deep-learning-models-python-keras/\n"
   ]
  },
  {
   "cell_type": "code",
   "execution_count": null,
   "metadata": {},
   "outputs": [],
   "source": []
  }
 ],
 "metadata": {
  "kernelspec": {
   "display_name": "Python 3",
   "language": "python",
   "name": "python3"
  },
  "language_info": {
   "codemirror_mode": {
    "name": "ipython",
    "version": 3
   },
   "file_extension": ".py",
   "mimetype": "text/x-python",
   "name": "python",
   "nbconvert_exporter": "python",
   "pygments_lexer": "ipython3",
   "version": "3.6.8"
  }
 },
 "nbformat": 4,
 "nbformat_minor": 2
}
